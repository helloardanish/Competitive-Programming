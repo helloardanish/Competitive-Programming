{
 "cells": [
  {
   "cell_type": "markdown",
   "id": "0f47e7d9",
   "metadata": {},
   "source": [
    "# Functions"
   ]
  },
  {
   "cell_type": "code",
   "execution_count": 1,
   "id": "83fa7722",
   "metadata": {},
   "outputs": [],
   "source": [
    "//Syntax\n",
    "/*\n",
    "void myFunction() {\n",
    "  // code to be executed\n",
    "}*/"
   ]
  },
  {
   "cell_type": "code",
   "execution_count": 2,
   "id": "dedb2685",
   "metadata": {},
   "outputs": [],
   "source": [
    "#include <iostream>\n",
    "\n",
    "using namespace std;\n",
    "double()"
   ]
  },
  {
   "cell_type": "code",
   "execution_count": 3,
   "id": "3c833ea6",
   "metadata": {},
   "outputs": [
    {
     "name": "stdout",
     "output_type": "stream",
     "text": [
      "Hello A R"
     ]
    }
   ],
   "source": [
    "void myFunc(){\n",
    "    cout << \"Hello A R\";\n",
    "}\n",
    "myFunc();\n",
    "//Calling here only because main function is already here"
   ]
  },
  {
   "cell_type": "code",
   "execution_count": 4,
   "id": "43c3b038",
   "metadata": {},
   "outputs": [],
   "source": [
    "int main(){\n",
    "    cout << \"inside main function\";\n",
    "    return 0;\n",
    "}\n",
    "// see its not executing. in Xeus by default it is in main"
   ]
  },
  {
   "cell_type": "code",
   "execution_count": 5,
   "id": "1f19f464",
   "metadata": {},
   "outputs": [],
   "source": [
    "/*\n",
    "void myFunction() { // declaration\n",
    "  // the body of the function (definition)\n",
    "}\n",
    "*/"
   ]
  },
  {
   "cell_type": "code",
   "execution_count": 6,
   "id": "8060fed7",
   "metadata": {},
   "outputs": [],
   "source": [
    "// function must be defined before main function\n",
    "// or just separate the decalaration and the definition of the function\n",
    "// Like this after #include and using namespace\n",
    "// void myFunction();\n",
    "// then you can use definition even below main function\n",
    "// if you are taking some parameters mention that too in declaration"
   ]
  },
  {
   "cell_type": "code",
   "execution_count": 7,
   "id": "7d00b865",
   "metadata": {},
   "outputs": [],
   "source": [
    "void myFunc(string name){\n",
    "    cout << \"Your name is \" << name << \".\"<<endl;\n",
    "}"
   ]
  },
  {
   "cell_type": "code",
   "execution_count": 8,
   "id": "e06a8602",
   "metadata": {},
   "outputs": [
    {
     "name": "stdout",
     "output_type": "stream",
     "text": [
      "Your name is A R.\n",
      "Your name is Danish.\n",
      "Your name is Nerdy Genius.\n"
     ]
    }
   ],
   "source": [
    "myFunc(\"A R\");\n",
    "myFunc(\"Danish\");\n",
    "myFunc(\"Nerdy Genius\");"
   ]
  },
  {
   "cell_type": "code",
   "execution_count": 9,
   "id": "8e1c19f0",
   "metadata": {},
   "outputs": [],
   "source": [
    "void eligVote(string name, int age){\n",
    "    if(age > 18){\n",
    "        cout << \"Hello \"<< name <<\" , you are eligible to vote!\" << endl;\n",
    "    }else{\n",
    "        cout << \"Hello \"<< name <<\" , you are not eligible to vote!\" << endl;\n",
    "    }\n",
    "}\n"
   ]
  },
  {
   "cell_type": "code",
   "execution_count": 10,
   "id": "454463ab",
   "metadata": {},
   "outputs": [
    {
     "name": "stdout",
     "output_type": "stream",
     "text": [
      "Hello A R , you are eligible to vote!\n"
     ]
    }
   ],
   "source": [
    "eligVote(\"A R\", 21)"
   ]
  },
  {
   "cell_type": "code",
   "execution_count": 11,
   "id": "f1231c01",
   "metadata": {},
   "outputs": [
    {
     "name": "stdout",
     "output_type": "stream",
     "text": [
      "Hello Nerdy Genius , you are not eligible to vote!\n",
      "Hello Danish , you are eligible to vote!\n"
     ]
    }
   ],
   "source": [
    "eligVote(\"Nerdy Genius\", 12);\n",
    "eligVote(\"Danish\", 25);"
   ]
  },
  {
   "cell_type": "code",
   "execution_count": 12,
   "id": "68a7de9e",
   "metadata": {},
   "outputs": [],
   "source": [
    "// you can use default vlaue of a parameter in case user doesn't give any input.\n",
    "void defaultFunc(string name=\"A R\"){\n",
    "    cout << \"My name is \" << name << \".\" << endl;\n",
    "}"
   ]
  },
  {
   "cell_type": "code",
   "execution_count": 13,
   "id": "5ec0da3c",
   "metadata": {},
   "outputs": [
    {
     "name": "stdout",
     "output_type": "stream",
     "text": [
      "My name is A R.\n",
      "My name is Danish.\n",
      "My name is Nerdy Genius.\n"
     ]
    }
   ],
   "source": [
    "defaultFunc();\n",
    "defaultFunc(\"Danish\");\n",
    "defaultFunc(\"Nerdy Genius\");"
   ]
  },
  {
   "cell_type": "code",
   "execution_count": 14,
   "id": "84b4e46e",
   "metadata": {},
   "outputs": [],
   "source": [
    "// you can return something too\n",
    "int calSquare(int n){\n",
    "    return n*n;\n",
    "}"
   ]
  },
  {
   "cell_type": "code",
   "execution_count": 15,
   "id": "71ab3eff",
   "metadata": {},
   "outputs": [
    {
     "name": "stdout",
     "output_type": "stream",
     "text": [
      "4"
     ]
    }
   ],
   "source": [
    "int val = calSquare(2);\n",
    "cout << val;"
   ]
  },
  {
   "cell_type": "code",
   "execution_count": 23,
   "id": "2d1b70dc",
   "metadata": {},
   "outputs": [
    {
     "name": "stdout",
     "output_type": "stream",
     "text": [
      "9\n",
      "16\n",
      "25"
     ]
    }
   ],
   "source": [
    "cout << calSquare(3) << \"\\n\";\n",
    "cout << calSquare(4) << \"\\n\";\n",
    "cout << calSquare(5);"
   ]
  },
  {
   "cell_type": "code",
   "execution_count": 17,
   "id": "95f4428b",
   "metadata": {},
   "outputs": [
    {
     "name": "stdout",
     "output_type": "stream",
     "text": [
      "Before swapping value of num1 is 10 and num2 value is 20.\n",
      "After swapping value of num1 is 20 and num2 value is 10.\n"
     ]
    }
   ],
   "source": [
    "// using pointers pass by reference\n",
    "void swapNums(int &x, int &y){\n",
    "    int temp = x;\n",
    "    x = y;\n",
    "    y = temp;\n",
    "}\n",
    "\n",
    "int num1 = 10;\n",
    "int num2 = 20;\n",
    "cout << \"Before swapping value of num1 is \" << num1 << \" and num2 value is \" << num2 << \".\\n\";\n",
    "swapNums(num1, num2);\n",
    "cout << \"After swapping value of num1 is \" << num1 << \" and num2 value is \" << num2 << \".\\n\";"
   ]
  },
  {
   "cell_type": "markdown",
   "id": "259d77cd",
   "metadata": {},
   "source": [
    "## Function overloading"
   ]
  },
  {
   "cell_type": "code",
   "execution_count": 47,
   "id": "40127797",
   "metadata": {},
   "outputs": [
    {
     "name": "stdout",
     "output_type": "stream",
     "text": [
      "Adding 1 and 4 we get 5\n"
     ]
    },
    {
     "data": {
      "text/plain": [
       "@0x7fb1346a2ba0"
      ]
     },
     "execution_count": 47,
     "metadata": {},
     "output_type": "execute_result"
    }
   ],
   "source": [
    "// we will create a similar name function who can work in different ways based on the given value\n",
    "int addIntNum(int x, int y){\n",
    "    return x+y;\n",
    "}\n",
    "int intans = addIntNum(1,4);\n",
    "/*\n",
    "double addDoubleNum(double x, double y){\n",
    "    return x+y;\n",
    "}\n",
    "*/\n",
    "\n",
    "cout << \"Adding 1 and 4 we get \"<< intans << \"\\n\";\n",
    "//cout << \"Adding 1.43 and 4.546 we get \"<< addDoubleNum(1.43, 4.546) << \"\\n\";\n",
    "// ddouble not working due to some error"
   ]
  },
  {
   "cell_type": "code",
   "execution_count": 51,
   "id": "5596c57c",
   "metadata": {},
   "outputs": [
    {
     "name": "stdout",
     "output_type": "stream",
     "text": [
      "Adding 1 and 4 we get 5\n"
     ]
    },
    {
     "data": {
      "text/plain": [
       "@0x7fb1346a2ba0"
      ]
     },
     "execution_count": 51,
     "metadata": {},
     "output_type": "execute_result"
    }
   ],
   "source": [
    "// but you can use same function name\n",
    "int addNum(int x, int y){\n",
    "    return x+y;\n",
    "}\n",
    "int intans = addNum(1,4);\n",
    "//int doubleans = addIntNum(1.4,4.546);\n",
    "/*\n",
    "double addNum(double x, double y){\n",
    "    return x+y;\n",
    "}\n",
    "*/\n",
    "\n",
    "cout << \"Adding 1 and 4 we get \"<< intans << \"\\n\";\n",
    "//cout << \"Adding 1.43 and 4.546 we get \"<< addDoubleNum(1.43, 4.546) << \"\\n\";\n",
    "// ddouble not working due to some error"
   ]
  },
  {
   "cell_type": "code",
   "execution_count": 52,
   "id": "e36a238a",
   "metadata": {},
   "outputs": [
    {
     "name": "stderr",
     "output_type": "stream",
     "text": [
      "input_line_67:5:33: error: function definition is not allowed here\n",
      " int addNum(int x, int y, int z){\n",
      "                                ^\n",
      "input_line_67:9:9: error: no matching function for call to 'addNum'\n",
      "cout << addNum(4,5,6) << \"\\n\";\n",
      "        ^~~~~~\n",
      "input_line_67:1:5: note: candidate function not viable: requires 2 arguments, but 3 were provided\n",
      "int addNum(int x, int y){\n",
      "    ^\n"
     ]
    },
    {
     "ename": "Interpreter Error",
     "evalue": "",
     "output_type": "error",
     "traceback": [
      "Interpreter Error: "
     ]
    }
   ],
   "source": [
    "int addNum(int x, int y){\n",
    "    return x+y;\n",
    "}\n",
    "int addNum(int x, int y, int z){\n",
    "    return x+y+z;\n",
    "}\n",
    "cout << addNum(4,5) << \"\\n\";\n",
    "cout << addNum(4,5,6) << \"\\n\";"
   ]
  },
  {
   "cell_type": "code",
   "execution_count": 53,
   "id": "040142f5",
   "metadata": {},
   "outputs": [],
   "source": [
    "// will check these errors later.\n",
    "// I facing some issue because I'm using Jupyter Notebook\n"
   ]
  },
  {
   "cell_type": "markdown",
   "id": "011810a2",
   "metadata": {},
   "source": [
    "## Happy Coding\n",
    "# A R"
   ]
  }
 ],
 "metadata": {
  "kernelspec": {
   "display_name": "C++14",
   "language": "C++14",
   "name": "xcpp14"
  },
  "language_info": {
   "codemirror_mode": "text/x-c++src",
   "file_extension": ".cpp",
   "mimetype": "text/x-c++src",
   "name": "c++",
   "version": "14"
  }
 },
 "nbformat": 4,
 "nbformat_minor": 5
}
